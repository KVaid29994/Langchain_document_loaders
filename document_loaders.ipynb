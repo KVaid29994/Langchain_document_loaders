{
 "cells": [
  {
   "cell_type": "markdown",
   "id": "52bc4a48",
   "metadata": {},
   "source": [
    "# 📄 LangChain: Document Loaders Guide"
   ]
  },
  {
   "cell_type": "markdown",
   "id": "7efafeb0",
   "metadata": {},
   "source": [
    "\n",
    "Document Loaders are utilities in LangChain to **load external data** (text, PDFs, URLs, etc.) into a format that can be used by LLM pipelines — primarily `Document` objects.\n",
    "\n",
    "---\n"
   ]
  },
  {
   "cell_type": "markdown",
   "id": "72e68f0d",
   "metadata": {},
   "source": [
    "## 🧾 What is a Document?\n",
    "\n",
    "A `Document` in LangChain is a lightweight wrapper around text with optional **metadata**.\n",
    "\n",
    "```python\n",
    "from langchain.schema import Document\n",
    "\n",
    "doc = Document(page_content=\"Hello world!\", metadata={\"source\": \"manual\"})"
   ]
  },
  {
   "cell_type": "markdown",
   "id": "78c066bd",
   "metadata": {},
   "source": [
    "| Loader               | Use Case                             |\n",
    "| -------------------- | ------------------------------------ |\n",
    "| `TextLoader`         | Load plain text files                |\n",
    "| `PyPDFLoader`        | Extract text from PDFs               |\n",
    "| `WebBaseLoader`      | Scrape and load from a web URL       |\n",
    "| `DirectoryLoader`    | Load multiple files from a folder    |\n",
    "| `UnstructuredLoader` | Parse complex formats (tables, etc.) |\n"
   ]
  },
  {
   "cell_type": "markdown",
   "id": "af9b1a40",
   "metadata": {},
   "source": [
    "### 📄 PDF Loaders in LangChain: Comparison Table"
   ]
  },
  {
   "cell_type": "markdown",
   "id": "95da65a0",
   "metadata": {},
   "source": [
    "---\n",
    "\n",
    "| Loader Name                     | Module Location                                | Backend         | Best Use Case                                                                 | Pros                                             | Cons                                              |\n",
    "|--------------------------------|--------------------------------------------------|------------------|--------------------------------------------------------------------------------|--------------------------------------------------|---------------------------------------------------|\n",
    "| **PyPDFLoader**                | `langchain_community.document_loaders`         | PyPDF2           | General-purpose PDF loading with page-level text                              | Simple, widely used, good for clean PDFs         | Poor table/image handling                         |\n",
    "| **PDFMinerLoader**             | `langchain_community.document_loaders`         | PDFMiner         | PDFs with precise layout/format-sensitive content                             | Preserves layout, detailed text control          | Slower, more complex to parse                     |\n",
    "| **PDFPlumberLoader**           | `langchain_community.document_loaders`         | pdfplumber       | PDFs with tables and visual elements                                           | Great for tables and structured text             | Slightly heavier, may include layout noise        |\n",
    "| **UnstructuredPDFLoader**     | `langchain_community.document_loaders`         | Unstructured.io  | Complex documents (invoices, HTML PDFs, emails)                               | Handles images, tables, structure well           | Requires `unstructured`, can be slow              |\n",
    "| **PyMuPDFLoader**              | `langchain_community.document_loaders`         | PyMuPDF (fitz)   | Extract both text and metadata efficiently                                    | Fast, extracts images and metadata               | Needs external dependency                         |\n",
    "| **PDFReaderLoader**            | `langchain_community.document_loaders`         | PDFReader        | OCR and scanned PDFs                                                          | Use when PDFs are image-based or scanned         | OCR-dependent, requires Tesseract or similar      |\n",
    "\n",
    "---\n",
    "\n",
    "## ✅ Loader Selection Guidelines\n",
    "\n",
    "- 📃 **Simple text PDFs?** → Use `PyPDFLoader`\n",
    "- 🧾 **PDFs with tables/layouts?** → Use `PDFPlumberLoader` or `PDFMinerLoader`\n",
    "- 🧠 **Scanned or image PDFs?** → Use `PDFReaderLoader` with OCR\n",
    "- 📊 **Need images/metadata?** → Use `PyMuPDFLoader`\n",
    "- 🏗️ **Highly structured content (invoices, emails)?** → Use `UnstructuredPDFLoader`\n",
    "\n",
    "---"
   ]
  },
  {
   "cell_type": "markdown",
   "id": "04d7cb81",
   "metadata": {},
   "source": [
    "```python\n",
    "\n",
    "\n",
    "# Example 1: Load a Text File\n",
    "from langchain.document_loaders import TextLoader\n",
    "\n",
    "loader = TextLoader(\"example.txt\")\n",
    "docs = loader.load()\n",
    "\n",
    "print(docs[0].page_content)\n"
   ]
  },
  {
   "cell_type": "markdown",
   "id": "a86d5919",
   "metadata": {},
   "source": [
    "```python\n",
    "\n",
    "# Example 2: Load a PDF\n",
    "\n",
    "from langchain_community.document_loaders import PyPDFLoader\n",
    "\n",
    "loader = PyPDFLoader(\"document.pdf\")\n",
    "docs = loader.load()\n",
    "\n",
    "print(docs[0].metadata)"
   ]
  },
  {
   "cell_type": "markdown",
   "id": "6c8c2106",
   "metadata": {},
   "source": [
    "```python\n",
    "\n",
    "# Example 3: Load a Web Page\n",
    "\n",
    "from langchain_community.document_loaders import WebBaseLoader\n",
    "\n",
    "loader = WebBaseLoader(\"https://en.wikipedia.org/wiki/Penguin\")\n",
    "docs = loader.load()\n",
    "\n",
    "print(docs[0].page_content[:500])"
   ]
  },
  {
   "cell_type": "markdown",
   "id": "c515a0da",
   "metadata": {},
   "source": [
    "### 🧠 How are Documents Used?\n",
    "Once loaded, Document objects are commonly passed to:\n",
    "\n",
    "- 🧱 Text splitters (for chunking)\n",
    "\n",
    "- 🧠 Embedding models (to create vectors)\n",
    "\n",
    "- 🗃️ Vector stores (to enable search)\n",
    "\n",
    "- 🧭 Chains and agents (for contextual LLM tasks)"
   ]
  },
  {
   "cell_type": "markdown",
   "id": "c6c803c9",
   "metadata": {},
   "source": [
    "## 🧠 What is RAG?\n",
    "\n",
    "**RAG** stands for **Retrieval-Augmented Generation**.  \n",
    "It is an LLM architecture pattern where external knowledge is **retrieved** from a data source (like a vector database) and **augmented** into the prompt before sending it to a language model.\n",
    "\n",
    "### 🔍 Why RAG?\n",
    "\n",
    "LLMs like GPT have limitations:\n",
    "- **They can't know everything** — they’re trained on static data.\n",
    "- **They may hallucinate** — make up incorrect facts.\n",
    "- **They don’t update in real-time**.\n",
    "\n",
    "\n",
    "RAG solves this by:\n",
    "- Fetching **relevant documents** from a trusted source\n",
    "- Feeding those documents into the model for **context-aware generation**\n",
    "\n",
    "---"
   ]
  },
  {
   "cell_type": "markdown",
   "id": "e6848af9",
   "metadata": {},
   "source": [
    "## 🛠️ Tools Used in RAG\n",
    "\n",
    "| Tool/Component       | Role in RAG                                           |\n",
    "|----------------------|--------------------------------------------------------|\n",
    "| **Document Loaders** | Load text, PDFs, or web data into Document objects     |\n",
    "| **Text Splitters**   | Break large documents into manageable chunks           |\n",
    "| **Embeddings**       | Convert text into vectors for semantic similarity      |\n",
    "| **Vector Store**     | Store and search documents by meaning (e.g., FAISS)    |\n",
    "| **Retriever**        | Pull relevant docs based on query similarity           |\n",
    "| **LLM**              | Generate answers based on query + retrieved context    |\n",
    "| **Prompt Template**  | Formats context and query into a prompt for the LLM    |\n",
    "\n",
    "---"
   ]
  },
  {
   "cell_type": "markdown",
   "id": "3da6370f",
   "metadata": {},
   "source": [
    "## 🔄 RAG Workflow\n",
    "\n",
    "1. 📥 User submits a **query**\n",
    "2. 📚 Retriever fetches **relevant chunks** from knowledge base\n",
    "3. 🧾 Prompt is composed with retrieved context\n",
    "4. 🤖 LLM generates **answer grounded in documents**\n",
    "\n",
    "---"
   ]
  },
  {
   "cell_type": "markdown",
   "id": "bef60e24",
   "metadata": {},
   "source": [
    "> 💡 **RAG = Retrieval (search) + Generation (LLM response)** — better accuracy, less hallucination, dynamic knowledge!"
   ]
  },
  {
   "cell_type": "markdown",
   "id": "16ad111d",
   "metadata": {},
   "source": []
  }
 ],
 "metadata": {
  "language_info": {
   "name": "python"
  }
 },
 "nbformat": 4,
 "nbformat_minor": 5
}
